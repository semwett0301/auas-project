{
 "cells": [
  {
   "cell_type": "code",
   "execution_count": 143,
   "metadata": {},
   "outputs": [],
   "source": [
    "import numpy as np\n",
    "import pandas as pd"
   ]
  },
  {
   "cell_type": "code",
   "execution_count": 144,
   "metadata": {},
   "outputs": [
    {
     "name": "stdout",
     "output_type": "stream",
     "text": [
      "Collecting psycopg2-binary\n",
      "  Using cached psycopg2_binary-2.9.9-cp311-cp311-win_amd64.whl.metadata (4.6 kB)\n",
      "Using cached psycopg2_binary-2.9.9-cp311-cp311-win_amd64.whl (1.2 MB)\n",
      "Installing collected packages: psycopg2-binary\n",
      "Note: you may need to restart the kernel to use updated packages.\n"
     ]
    },
    {
     "name": "stderr",
     "output_type": "stream",
     "text": [
      "ERROR: Could not install packages due to an OSError: [WinError 5] Toegang geweigerd: 'c:\\\\Users\\\\gwenr\\\\anaconda3\\\\envs\\\\Introduction\\\\Lib\\\\site-packages\\\\psycopg2\\\\_psycopg.cp311-win_amd64.pyd'\n",
      "Consider using the `--user` option or check the permissions.\n",
      "\n"
     ]
    }
   ],
   "source": [
    "pip install psycopg2-binary\n"
   ]
  },
  {
   "cell_type": "code",
   "execution_count": 145,
   "metadata": {},
   "outputs": [
    {
     "name": "stdout",
     "output_type": "stream",
     "text": [
      "Verbonden met de database\n"
     ]
    }
   ],
   "source": [
    "import psycopg2\n",
    "\n",
    "# Maak verbinding met de PostgreSQL-database\n",
    "conn = psycopg2.connect(\n",
    "    host=\"localhost\",  # Je werkt lokaal, dus localhost\n",
    "    database=\"postgres\",  # Vul hier de naam van je database in\n",
    "    user=\"postgres\",  # Dit is je gebruikersnaam\n",
    "    password=\"Melvin10\",  # Vul hier het wachtwoord van de gebruiker 'postgres' in\n",
    "    port=\"5432\"  # Dit is de standaardpoort voor PostgreSQL\n",
    ")\n",
    "\n",
    "# Maak een cursor om SQL-opdrachten uit te voeren\n",
    "cur = conn.cursor()\n",
    "\n",
    "# Controleer of de verbinding werkt\n",
    "print(\"Verbonden met de database\")\n",
    "\n",
    "# Sluit de verbinding (na je opdrachten)\n",
    "cur.close()\n",
    "conn.close()"
   ]
  },
  {
   "cell_type": "code",
   "execution_count": 146,
   "metadata": {},
   "outputs": [
    {
     "name": "stdout",
     "output_type": "stream",
     "text": [
      "                                   title  worldwide_box_office  \\\n",
      "0                   Antitrust-2001-01-12              17865209   \n",
      "1          A Walk to Remember-2002-01-25              46060861   \n",
      "2  The Killing of John Lennon-2008-01-02                     0   \n",
      "3                   Mad Money-2008-01-18              25044057   \n",
      "4          Over Her Dead Body-2008-02-01              21596074   \n",
      "\n",
      "   international_box_office  domestic_box_office average_score  \n",
      "0                   6900000             10965209            56  \n",
      "1                   4833792             41227069            71  \n",
      "2                         0                 6975            67  \n",
      "3                   4375214             20668843            40  \n",
      "4                  14025947              7570127            57  \n"
     ]
    }
   ],
   "source": [
    "import psycopg2\n",
    "import pandas as pd\n",
    "\n",
    "# Establish connection to the database\n",
    "conn = psycopg2.connect(\n",
    "    host=\"localhost\",\n",
    "    database=\"postgres\",  # Your database name\n",
    "    user=\"postgres\",  # Your PostgreSQL user\n",
    "    password=\"Melvin10\",  # Your PostgreSQL password\n",
    "    port=\"5432\"\n",
    ")\n",
    "\n",
    "# Creating a cursor\n",
    "cur = conn.cursor()\n",
    "\n",
    "# 1 Gwen first select the relevant tables from the movie table and leaving out release date\n",
    "movie_query = \"\"\"\n",
    "SELECT \n",
    "    \"title\",\n",
    "    \"worldwide_box_office\",\n",
    "    \"international_box_office\",\n",
    "    \"domestic_box_office\"\n",
    "FROM public.\"movie\";\n",
    "\"\"\"\n",
    "cur.execute(movie_query)\n",
    "movie_results = cur.fetchall()\n",
    "\n",
    "# Convert to DataFrame\n",
    "movie_df = pd.DataFrame(movie_results, columns=[\"title\", \"worldwide_box_office\", \"international_box_office\", \"domestic_box_office\"])\n",
    "\n",
    "# 2 Gwen secondly make a query to only get the user review scores from the review table and grouping by title \n",
    "user_review_query = \"\"\"\n",
    "SELECT \n",
    "    \"title\", \n",
    "    ROUND(AVG(\"idvscore\"), 0) AS average_score\n",
    "FROM public.\"Review\"\n",
    "WHERE \"role\" = 'user'\n",
    "GROUP BY \"title\";\n",
    "\"\"\"\n",
    "cur.execute(user_review_query)\n",
    "user_review_results = cur.fetchall()\n",
    "\n",
    "# Convert to DataFrame\n",
    "review_df = pd.DataFrame(user_review_results, columns=[\"title\", \"average_score\"])\n",
    "\n",
    "# Gwen merge the two DataFrames on the \"title\" column to join box office data with review scores\n",
    "combined_df = pd.merge(movie_df, review_df, on=\"title\")\n",
    "\n",
    "# Gwen show the data frame\n",
    "print(combined_df.head())\n",
    "\n"
   ]
  },
  {
   "cell_type": "code",
   "execution_count": 147,
   "metadata": {},
   "outputs": [
    {
     "data": {
      "text/html": [
       "<div>\n",
       "<style scoped>\n",
       "    .dataframe tbody tr th:only-of-type {\n",
       "        vertical-align: middle;\n",
       "    }\n",
       "\n",
       "    .dataframe tbody tr th {\n",
       "        vertical-align: top;\n",
       "    }\n",
       "\n",
       "    .dataframe thead th {\n",
       "        text-align: right;\n",
       "    }\n",
       "</style>\n",
       "<table border=\"1\" class=\"dataframe\">\n",
       "  <thead>\n",
       "    <tr style=\"text-align: right;\">\n",
       "      <th></th>\n",
       "      <th>title</th>\n",
       "      <th>worldwide_box_office</th>\n",
       "      <th>international_box_office</th>\n",
       "      <th>domestic_box_office</th>\n",
       "      <th>average_score</th>\n",
       "    </tr>\n",
       "  </thead>\n",
       "  <tbody>\n",
       "    <tr>\n",
       "      <th>0</th>\n",
       "      <td>Antitrust-2001-01-12</td>\n",
       "      <td>17865209</td>\n",
       "      <td>6900000</td>\n",
       "      <td>10965209</td>\n",
       "      <td>56</td>\n",
       "    </tr>\n",
       "    <tr>\n",
       "      <th>1</th>\n",
       "      <td>A Walk to Remember-2002-01-25</td>\n",
       "      <td>46060861</td>\n",
       "      <td>4833792</td>\n",
       "      <td>41227069</td>\n",
       "      <td>71</td>\n",
       "    </tr>\n",
       "    <tr>\n",
       "      <th>2</th>\n",
       "      <td>The Killing of John Lennon-2008-01-02</td>\n",
       "      <td>0</td>\n",
       "      <td>0</td>\n",
       "      <td>6975</td>\n",
       "      <td>67</td>\n",
       "    </tr>\n",
       "    <tr>\n",
       "      <th>3</th>\n",
       "      <td>Mad Money-2008-01-18</td>\n",
       "      <td>25044057</td>\n",
       "      <td>4375214</td>\n",
       "      <td>20668843</td>\n",
       "      <td>40</td>\n",
       "    </tr>\n",
       "    <tr>\n",
       "      <th>4</th>\n",
       "      <td>Over Her Dead Body-2008-02-01</td>\n",
       "      <td>21596074</td>\n",
       "      <td>14025947</td>\n",
       "      <td>7570127</td>\n",
       "      <td>57</td>\n",
       "    </tr>\n",
       "  </tbody>\n",
       "</table>\n",
       "</div>"
      ],
      "text/plain": [
       "                                   title  worldwide_box_office  \\\n",
       "0                   Antitrust-2001-01-12              17865209   \n",
       "1          A Walk to Remember-2002-01-25              46060861   \n",
       "2  The Killing of John Lennon-2008-01-02                     0   \n",
       "3                   Mad Money-2008-01-18              25044057   \n",
       "4          Over Her Dead Body-2008-02-01              21596074   \n",
       "\n",
       "   international_box_office  domestic_box_office average_score  \n",
       "0                   6900000             10965209            56  \n",
       "1                   4833792             41227069            71  \n",
       "2                         0                 6975            67  \n",
       "3                   4375214             20668843            40  \n",
       "4                  14025947              7570127            57  "
      ]
     },
     "execution_count": 147,
     "metadata": {},
     "output_type": "execute_result"
    }
   ],
   "source": [
    "combined_df.head()"
   ]
  },
  {
   "cell_type": "code",
   "execution_count": 151,
   "metadata": {},
   "outputs": [
    {
     "name": "stdout",
     "output_type": "stream",
     "text": [
      "  score_category  correlation_worldwide  correlation_international  \\\n",
      "0           high              -0.086794                  -0.076656   \n",
      "1            low               0.145838                   0.129846   \n",
      "\n",
      "   correlation_domestic  \n",
      "0             -0.099121  \n",
      "1              0.160657  \n"
     ]
    }
   ],
   "source": [
    "# Gwen correlation on all box office sales and using a operator to define a high review score.\n",
    "correlation_query = \"\"\"\n",
    "WITH movie_data AS (\n",
    "    SELECT \n",
    "        movie_box_office.\"title\",\n",
    "        movie_box_office.\"worldwide_box_office\",\n",
    "        movie_box_office.\"international_box_office\",\n",
    "        movie_box_office.\"domestic_box_office\",\n",
    "        CASE \n",
    "            WHEN user_avg_scores.average_score >= 70 THEN 'high'\n",
    "            ELSE 'low'\n",
    "        END AS score_category,\n",
    "        user_avg_scores.average_score\n",
    "    FROM (\n",
    "        SELECT \n",
    "            \"title\",\n",
    "            \"worldwide_box_office\",\n",
    "            \"international_box_office\",\n",
    "            \"domestic_box_office\"\n",
    "        FROM public.\"movie\"\n",
    "    ) AS movie_box_office\n",
    "    INNER JOIN (\n",
    "        SELECT \n",
    "            \"title\", \n",
    "            ROUND(AVG(\"idvscore\"), 0) AS average_score\n",
    "        FROM public.\"Review\"\n",
    "        WHERE \"role\" = 'user'\n",
    "        GROUP BY \"title\"\n",
    "    ) AS user_avg_scores\n",
    "    ON movie_box_office.\"title\" = user_avg_scores.\"title\"\n",
    ")\n",
    "SELECT \n",
    "    score_category,\n",
    "    corr(movie_data.average_score, movie_data.worldwide_box_office) AS correlation_worldwide,\n",
    "    corr(movie_data.average_score, movie_data.international_box_office) AS correlation_international,\n",
    "    corr(movie_data.average_score, movie_data.domestic_box_office) AS correlation_domestic\n",
    "FROM movie_data\n",
    "GROUP BY score_category;\n",
    "\"\"\"\n",
    "\n",
    "cur.execute(correlation_query)\n",
    "correlation_results = cur.fetchall()\n",
    "\n",
    "\n",
    "correlation_df = pd.DataFrame(correlation_results, columns=[\"score_category\", \"correlation_worldwide\", \"correlation_international\", \"correlation_domestic\"])\n",
    "\n",
    "\n",
    "print(correlation_df)"
   ]
  },
  {
   "cell_type": "code",
   "execution_count": 149,
   "metadata": {},
   "outputs": [
    {
     "data": {
      "text/html": [
       "<div>\n",
       "<style scoped>\n",
       "    .dataframe tbody tr th:only-of-type {\n",
       "        vertical-align: middle;\n",
       "    }\n",
       "\n",
       "    .dataframe tbody tr th {\n",
       "        vertical-align: top;\n",
       "    }\n",
       "\n",
       "    .dataframe thead th {\n",
       "        text-align: right;\n",
       "    }\n",
       "</style>\n",
       "<table border=\"1\" class=\"dataframe\">\n",
       "  <thead>\n",
       "    <tr style=\"text-align: right;\">\n",
       "      <th></th>\n",
       "      <th>score_category</th>\n",
       "      <th>correlation_worldwide</th>\n",
       "      <th>correlation_international</th>\n",
       "      <th>correlation_domestic</th>\n",
       "    </tr>\n",
       "  </thead>\n",
       "  <tbody>\n",
       "    <tr>\n",
       "      <th>0</th>\n",
       "      <td>high</td>\n",
       "      <td>-0.086794</td>\n",
       "      <td>-0.076656</td>\n",
       "      <td>-0.099121</td>\n",
       "    </tr>\n",
       "    <tr>\n",
       "      <th>1</th>\n",
       "      <td>low</td>\n",
       "      <td>0.145838</td>\n",
       "      <td>0.129846</td>\n",
       "      <td>0.160657</td>\n",
       "    </tr>\n",
       "  </tbody>\n",
       "</table>\n",
       "</div>"
      ],
      "text/plain": [
       "  score_category  correlation_worldwide  correlation_international  \\\n",
       "0           high              -0.086794                  -0.076656   \n",
       "1            low               0.145838                   0.129846   \n",
       "\n",
       "   correlation_domestic  \n",
       "0             -0.099121  \n",
       "1              0.160657  "
      ]
     },
     "execution_count": 149,
     "metadata": {},
     "output_type": "execute_result"
    }
   ],
   "source": [
    "correlation_df.head()"
   ]
  },
  {
   "cell_type": "code",
   "execution_count": 150,
   "metadata": {},
   "outputs": [
    {
     "name": "stdout",
     "output_type": "stream",
     "text": [
      "   general_correlation_worldwide\n",
      "0                       0.038704\n"
     ]
    }
   ],
   "source": [
    "# Gwen showing the direct correlation of user review scores on worldwide box office\n",
    "correlation_direct_query = \"\"\"\n",
    "WITH movie_data AS (\n",
    "    SELECT \n",
    "        movie_box_office.\"title\",\n",
    "        movie_box_office.\"worldwide_box_office\",\n",
    "        user_avg_scores.average_score\n",
    "    FROM (\n",
    "        SELECT \n",
    "            \"title\",\n",
    "            \"worldwide_box_office\"\n",
    "        FROM public.\"movie\"\n",
    "    ) AS movie_box_office\n",
    "    INNER JOIN (\n",
    "        SELECT \n",
    "            \"title\", \n",
    "            ROUND(AVG(\"idvscore\"), 0) AS average_score\n",
    "        FROM public.\"Review\"\n",
    "        WHERE \n",
    "            \"role\" = 'user'\n",
    "        GROUP BY \n",
    "            \"title\"\n",
    "    ) AS user_avg_scores\n",
    "    ON movie_box_office.\"title\" = user_avg_scores.\"title\"\n",
    ")\n",
    "SELECT \n",
    "    corr(movie_data.average_score, movie_data.worldwide_box_office) AS general_correlation_worldwide\n",
    "FROM movie_data;\n",
    "\"\"\"\n",
    "\n",
    "cur.execute(correlation_direct_query)\n",
    "\n",
    "correlation_direct_results = cur.fetchall()\n",
    "\n",
    "correlation_direct_df = pd.DataFrame(correlation_direct_results, columns=[\"general_correlation_worldwide\"])\n",
    "\n",
    "print(correlation_direct_df)"
   ]
  },
  {
   "cell_type": "code",
   "execution_count": 122,
   "metadata": {},
   "outputs": [
    {
     "data": {
      "text/html": [
       "<div>\n",
       "<style scoped>\n",
       "    .dataframe tbody tr th:only-of-type {\n",
       "        vertical-align: middle;\n",
       "    }\n",
       "\n",
       "    .dataframe tbody tr th {\n",
       "        vertical-align: top;\n",
       "    }\n",
       "\n",
       "    .dataframe thead th {\n",
       "        text-align: right;\n",
       "    }\n",
       "</style>\n",
       "<table border=\"1\" class=\"dataframe\">\n",
       "  <thead>\n",
       "    <tr style=\"text-align: right;\">\n",
       "      <th></th>\n",
       "      <th>general_correlation_worldwide</th>\n",
       "    </tr>\n",
       "  </thead>\n",
       "  <tbody>\n",
       "    <tr>\n",
       "      <th>0</th>\n",
       "      <td>0.038704</td>\n",
       "    </tr>\n",
       "  </tbody>\n",
       "</table>\n",
       "</div>"
      ],
      "text/plain": [
       "   general_correlation_worldwide\n",
       "0                       0.038704"
      ]
     },
     "execution_count": 122,
     "metadata": {},
     "output_type": "execute_result"
    }
   ],
   "source": [
    "correlation_direct_df.head()"
   ]
  },
  {
   "cell_type": "code",
   "execution_count": 141,
   "metadata": {},
   "outputs": [
    {
     "name": "stdout",
     "output_type": "stream",
     "text": [
      "Requirement already satisfied: seaborn in c:\\users\\gwenr\\anaconda3\\envs\\introduction\\lib\\site-packages (0.13.2)Note: you may need to restart the kernel to use updated packages.\n",
      "\n",
      "Requirement already satisfied: numpy!=1.24.0,>=1.20 in c:\\users\\gwenr\\anaconda3\\envs\\introduction\\lib\\site-packages (from seaborn) (2.1.1)\n",
      "Requirement already satisfied: pandas>=1.2 in c:\\users\\gwenr\\anaconda3\\envs\\introduction\\lib\\site-packages (from seaborn) (2.2.2)\n",
      "Requirement already satisfied: matplotlib!=3.6.1,>=3.4 in c:\\users\\gwenr\\anaconda3\\envs\\introduction\\lib\\site-packages (from seaborn) (3.9.2)\n",
      "Requirement already satisfied: contourpy>=1.0.1 in c:\\users\\gwenr\\anaconda3\\envs\\introduction\\lib\\site-packages (from matplotlib!=3.6.1,>=3.4->seaborn) (1.3.0)\n",
      "Requirement already satisfied: cycler>=0.10 in c:\\users\\gwenr\\anaconda3\\envs\\introduction\\lib\\site-packages (from matplotlib!=3.6.1,>=3.4->seaborn) (0.12.1)\n",
      "Requirement already satisfied: fonttools>=4.22.0 in c:\\users\\gwenr\\anaconda3\\envs\\introduction\\lib\\site-packages (from matplotlib!=3.6.1,>=3.4->seaborn) (4.53.1)\n",
      "Requirement already satisfied: kiwisolver>=1.3.1 in c:\\users\\gwenr\\anaconda3\\envs\\introduction\\lib\\site-packages (from matplotlib!=3.6.1,>=3.4->seaborn) (1.4.7)\n",
      "Requirement already satisfied: packaging>=20.0 in c:\\users\\gwenr\\anaconda3\\envs\\introduction\\lib\\site-packages (from matplotlib!=3.6.1,>=3.4->seaborn) (24.1)\n",
      "Requirement already satisfied: pillow>=8 in c:\\users\\gwenr\\anaconda3\\envs\\introduction\\lib\\site-packages (from matplotlib!=3.6.1,>=3.4->seaborn) (10.4.0)\n",
      "Requirement already satisfied: pyparsing>=2.3.1 in c:\\users\\gwenr\\anaconda3\\envs\\introduction\\lib\\site-packages (from matplotlib!=3.6.1,>=3.4->seaborn) (3.1.4)\n",
      "Requirement already satisfied: python-dateutil>=2.7 in c:\\users\\gwenr\\anaconda3\\envs\\introduction\\lib\\site-packages (from matplotlib!=3.6.1,>=3.4->seaborn) (2.9.0)\n",
      "Requirement already satisfied: pytz>=2020.1 in c:\\users\\gwenr\\anaconda3\\envs\\introduction\\lib\\site-packages (from pandas>=1.2->seaborn) (2024.2)\n",
      "Requirement already satisfied: tzdata>=2022.7 in c:\\users\\gwenr\\anaconda3\\envs\\introduction\\lib\\site-packages (from pandas>=1.2->seaborn) (2024.1)\n",
      "Requirement already satisfied: six>=1.5 in c:\\users\\gwenr\\anaconda3\\envs\\introduction\\lib\\site-packages (from python-dateutil>=2.7->matplotlib!=3.6.1,>=3.4->seaborn) (1.16.0)\n"
     ]
    }
   ],
   "source": [
    "pip install seaborn\n"
   ]
  },
  {
   "cell_type": "code",
   "execution_count": 139,
   "metadata": {},
   "outputs": [
    {
     "data": {
      "image/png": "[encoded data removed]",
      "text/plain": [
       "<Figure size 1000x600 with 2 Axes>"
      ]
     },
     "metadata": {},
     "output_type": "display_data"
    }
   ],
   "source": [
    "# Gwen visualising the correlation results into a heatmap\n",
    "import psycopg2\n",
    "import pandas as pd\n",
    "import seaborn as sns\n",
    "import matplotlib.pyplot as plt\n",
    "\n",
    "conn = psycopg2.connect(\n",
    "    host=\"localhost\",\n",
    "    database=\"postgres\",  \n",
    "    user=\"postgres\",  \n",
    "    password=\"Melvin10\",  \n",
    "    port=\"5432\"\n",
    ")\n",
    "\n",
    "cur = conn.cursor()\n",
    "\n",
    "correlation_query = \"\"\"\n",
    "WITH movie_data AS (\n",
    "    SELECT \n",
    "        movie_box_office.\"title\",\n",
    "        movie_box_office.\"worldwide_box_office\",\n",
    "        movie_box_office.\"international_box_office\",\n",
    "        movie_box_office.\"domestic_box_office\",\n",
    "        CASE \n",
    "            WHEN user_avg_scores.average_score >= 70 THEN 'high'\n",
    "            ELSE 'low'\n",
    "        END AS score_category,\n",
    "        user_avg_scores.average_score\n",
    "    FROM (\n",
    "        SELECT \n",
    "            \"title\",\n",
    "            \"worldwide_box_office\",\n",
    "            \"international_box_office\",\n",
    "            \"domestic_box_office\"\n",
    "        FROM public.\"movie\"\n",
    "    ) AS movie_box_office\n",
    "    INNER JOIN (\n",
    "        SELECT \n",
    "            \"title\", \n",
    "            ROUND(AVG(\"idvscore\"), 0) AS average_score\n",
    "        FROM public.\"Review\"\n",
    "        WHERE \"role\" = 'user'\n",
    "        GROUP BY \"title\"\n",
    "    ) AS user_avg_scores\n",
    "    ON movie_box_office.\"title\" = user_avg_scores.\"title\"\n",
    ")\n",
    "SELECT \n",
    "    score_category,\n",
    "    corr(movie_data.average_score, movie_data.worldwide_box_office) AS correlation_worldwide,\n",
    "    corr(movie_data.average_score, movie_data.international_box_office) AS correlation_international,\n",
    "    corr(movie_data.average_score, movie_data.domestic_box_office) AS correlation_domestic\n",
    "FROM movie_data\n",
    "GROUP BY score_category;\n",
    "\"\"\"\n",
    "\n",
    "cur.execute(correlation_query)\n",
    "correlation_results = cur.fetchall()\n",
    "\n",
    "\n",
    "correlation_df = pd.DataFrame(correlation_results, columns=[\"score_category\", \"correlation_worldwide\", \"correlation_international\", \"correlation_domestic\"])\n",
    "\n",
    "cur.close()\n",
    "conn.close()\n",
    "\n",
    "# Gwen reshape the DataFrame for heatmap\n",
    "correlation_matrix = correlation_df.set_index('score_category')\n",
    "\n",
    "# Gwen create heatmap using seaborn\n",
    "plt.figure(figsize=(10, 6))\n",
    "sns.heatmap(correlation_matrix, annot=True, cmap=\"coolwarm\", center=0)\n",
    "plt.title('Correlation Heatmap of Review Scores and Box Office Performance')\n",
    "plt.show()\n"
   ]
  }
 ],
 "metadata": {
  "kernelspec": {
   "display_name": "Introduction",
   "language": "python",
   "name": "python3"
  },
  "language_info": {
   "codemirror_mode": {
    "name": "ipython",
    "version": 3
   },
   "file_extension": ".py",
   "mimetype": "text/x-python",
   "name": "python",
   "nbconvert_exporter": "python",
   "pygments_lexer": "ipython3",
   "version": "3.11.9"
  }
 },
 "nbformat": 4,
 "nbformat_minor": 2
}
